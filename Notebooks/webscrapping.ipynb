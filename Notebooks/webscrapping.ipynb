{
 "cells": [
  {
   "cell_type": "code",
   "execution_count": 13,
   "id": "5cbb3bfd-25c0-4f6a-abdf-813e396c78c4",
   "metadata": {},
   "outputs": [],
   "source": [
    "from urllib.request import urlopen\n",
    "from bs4 import BeautifulSoup\n",
    "import requests as req\n",
    "import json\n",
    "from geopy.geocoders import Nominatim"
   ]
  },
  {
   "cell_type": "code",
   "execution_count": 14,
   "id": "da044486-6e5b-4785-b610-7ae495967118",
   "metadata": {},
   "outputs": [
    {
     "name": "stdout",
     "output_type": "stream",
     "text": [
      "Latitude = 10.9961974, Longitude = 77.0055029\n"
     ]
    }
   ],
   "source": [
    "locator = Nominatim(user_agent = 'tony-env')\n",
    "location = locator.geocode('coimbature, tamilnadu, india')\n",
    "print(\"Latitude = {}, Longitude = {}\".format(location.latitude, location.longitude))"
   ]
  },
  {
   "cell_type": "code",
   "execution_count": 18,
   "id": "df556fac-bb45-4843-8d21-f041d4ff160f",
   "metadata": {},
   "outputs": [
    {
     "data": {
      "text/plain": [
       "Location(Devipattinam, Pollachi, Coimbatore District, Tamil Nadu, 642129, India, (10.539952230167806, 76.92059025018803, 0.0))"
      ]
     },
     "execution_count": 18,
     "metadata": {},
     "output_type": "execute_result"
    }
   ],
   "source": [
    "# location_name = locator.reverse(\"10.9961974,77.0055029\")\n",
    "location_name = locator.reverse(\"10.540824019594156, 76.92087919653375\")\n",
    "location_name"
   ]
  },
  {
   "cell_type": "code",
   "execution_count": 47,
   "id": "e34597f0-c8b1-45c4-9840-bba17ff52b53",
   "metadata": {},
   "outputs": [],
   "source": [
    "import time\n",
    "def get_location_by_address(locator, address):\n",
    "    \"\"\"This function returns a location as raw from an address\n",
    "    will repeat until success\"\"\"\n",
    "    try:\n",
    "        loc = locator.geocode(address)\n",
    "        return loc.raw if loc else None\n",
    "    except Exception as e:\n",
    "        print(\"get_location_by_address raised ERROR: \"+str(e))\n",
    "        pass\n",
    "        \n",
    "#         return get_location_by_address(locator, address)\n",
    "    \n",
    "def get_address_by_location(locator, latitude, longitude, language=\"en\"):\n",
    "    \"\"\"This function returns an address as raw from a location\n",
    "    will repeat until success\"\"\"\n",
    "    # build coordinates string to pass to reverse() function\n",
    "    coordinates = f\"{latitude}, {longitude}\"\n",
    "    # sleep for a second to respect Usage Policy\n",
    "    time.sleep(1)\n",
    "    try:\n",
    "        return locator.reverse(coordinates, language=language).raw\n",
    "    except:\n",
    "        return get_address_by_location(locator, latitude, longitude)"
   ]
  },
  {
   "cell_type": "code",
   "execution_count": 54,
   "id": "7b31fc3f-f4a9-47ad-8fe1-16fe83fba66a",
   "metadata": {},
   "outputs": [
    {
     "data": {
      "text/plain": [
       "{'place_id': 4008065,\n",
       " 'licence': 'Data © OpenStreetMap contributors, ODbL 1.0. https://osm.org/copyright',\n",
       " 'osm_type': 'node',\n",
       " 'osm_id': 472267695,\n",
       " 'boundingbox': ['10.9961474', '10.9962474', '77.0054529', '77.0055529'],\n",
       " 'lat': '10.9961974',\n",
       " 'lon': '77.0055029',\n",
       " 'display_name': 'Coimbature Stock Exchange, NH181, Ward 63, East Zone, Coimbatore South, Coimbatore District, Tamil Nadu, 661005, India',\n",
       " 'class': 'amenity',\n",
       " 'type': 'b',\n",
       " 'importance': 0.101}"
      ]
     },
     "execution_count": 54,
     "metadata": {},
     "output_type": "execute_result"
    }
   ],
   "source": [
    "get_location_by_address(locator, \"Coimbature\")"
   ]
  },
  {
   "cell_type": "code",
   "execution_count": 53,
   "id": "91e42c04-047a-45cf-93d8-0a9eb9a0e6f8",
   "metadata": {},
   "outputs": [
    {
     "data": {
      "text/plain": [
       "{'place_id': 4008065,\n",
       " 'licence': 'Data © OpenStreetMap contributors, ODbL 1.0. https://osm.org/copyright',\n",
       " 'osm_type': 'node',\n",
       " 'osm_id': 472267695,\n",
       " 'lat': '10.9961974',\n",
       " 'lon': '77.0055029',\n",
       " 'display_name': 'Coimbature Stock Exchange, NH181, Ward 63, East Zone, Coimbatore South, Coimbatore District, Tamil Nadu, 661005, India',\n",
       " 'address': {'amenity': 'Coimbature Stock Exchange',\n",
       "  'road': 'NH181',\n",
       "  'suburb': 'Ward 63',\n",
       "  'city_district': 'East Zone',\n",
       "  'county': 'Coimbatore South',\n",
       "  'state_district': 'Coimbatore District',\n",
       "  'state': 'Tamil Nadu',\n",
       "  'postcode': '661005',\n",
       "  'country': 'India',\n",
       "  'country_code': 'in'},\n",
       " 'boundingbox': ['10.9961474', '10.9962474', '77.0054529', '77.0055529']}"
      ]
     },
     "execution_count": 53,
     "metadata": {},
     "output_type": "execute_result"
    }
   ],
   "source": [
    "get_address_by_location(locator, 10.9961974, 77.0055029)"
   ]
  },
  {
   "cell_type": "code",
   "execution_count": 88,
   "id": "e856fa86-9139-4bc0-940d-3d85b5ca89da",
   "metadata": {},
   "outputs": [],
   "source": [
    "import json\n",
    "from types import SimpleNamespace"
   ]
  },
  {
   "cell_type": "code",
   "execution_count": 118,
   "id": "1730e5ea-820e-4d4b-a803-8cc66d75f407",
   "metadata": {},
   "outputs": [],
   "source": [
    "url = \"https://openweathermap.org/data/2.5/onecall?lat=11&lon=77&units=imperial&appid=439d4b804bc8187953eb36d2a8c26a02\""
   ]
  },
  {
   "cell_type": "code",
   "execution_count": 119,
   "id": "b30a0bf1-1c92-4f81-a88d-01b88990e761",
   "metadata": {},
   "outputs": [],
   "source": [
    "data = req.get(url)"
   ]
  },
  {
   "cell_type": "code",
   "execution_count": 120,
   "id": "e5c13d31-3169-4f45-ab95-3602817afe99",
   "metadata": {},
   "outputs": [],
   "source": [
    "data = data.content.decode('UTF-8')"
   ]
  },
  {
   "cell_type": "code",
   "execution_count": 121,
   "id": "aae99157-ab0d-4a22-bdf6-edd6ca82c587",
   "metadata": {},
   "outputs": [
    {
     "name": "stdout",
     "output_type": "stream",
     "text": [
      "[{'dt': 1630241689, 'sunrise': 1630197745, 'sunset': 1630242239, 'temp': 78.75, 'feels_like': 78.75, 'pressure': 1006, 'humidity': 73, 'dew_point': 69.37, 'uvi': 0, 'clouds': 75, 'visibility': 6000, 'wind_speed': 13.8, 'wind_deg': 240, 'weather': [namespace(description='broken clouds', icon='04d', id=803, main='Clouds')]}]\n"
     ]
    }
   ],
   "source": [
    "# data = '{\"name\": \"John Smith\", \"hometown\": {\"name\": \"New York\", \"id\": 123}}'\n",
    "\n",
    "# Parse JSON into an object with attributes corresponding to dict keys.\n",
    "x = json.loads(data, object_hook=lambda d: SimpleNamespace(**d))\n",
    "print([vars(x.current)])"
   ]
  },
  {
   "cell_type": "code",
   "execution_count": 82,
   "id": "fef30a9e-2ce4-4658-8cef-50b490514b81",
   "metadata": {},
   "outputs": [],
   "source": [
    "def parse_json_data( data:str, key: str = 'day'):\n",
    "    # Parse JSON into an object with attributes corresponding to dict keys.\n",
    "    x = json.loads(data, object_hook=lambda d: SimpleNamespace(**d))\n",
    "    if hasattr(x, key):\n",
    "        attr = getattr(x, key)\n",
    "        return attr\n",
    "    else:\n",
    "        raise KeyError(\n",
    "            f\"{key} not found!\"\n",
    "        )"
   ]
  },
  {
   "cell_type": "code",
   "execution_count": 87,
   "id": "d9042721-5b76-44dc-b8d2-77b07f4a55ce",
   "metadata": {},
   "outputs": [
    {
     "data": {
      "text/plain": [
       "'light intensity drizzle'"
      ]
     },
     "execution_count": 87,
     "metadata": {},
     "output_type": "execute_result"
    }
   ],
   "source": [
    "parse_json_data(data, 'current').weather[0].description"
   ]
  },
  {
   "cell_type": "code",
   "execution_count": 93,
   "id": "bd42d088-9a16-43dc-9b7f-12d1b3a05668",
   "metadata": {},
   "outputs": [
    {
     "data": {
      "text/plain": [
       "1630239147"
      ]
     },
     "execution_count": 93,
     "metadata": {},
     "output_type": "execute_result"
    }
   ],
   "source": [
    "parse_json_data(data, 'current').dt"
   ]
  },
  {
   "cell_type": "code",
   "execution_count": 104,
   "id": "15e4a663-512f-4eea-a73e-94b9f2d6aa3c",
   "metadata": {},
   "outputs": [],
   "source": [
    "import datetime\n",
    "LOCAL_TIMEZONE = datetime.datetime.now(datetime.timezone(datetime.timedelta(0))).astimezone().tzinfo"
   ]
  },
  {
   "cell_type": "code",
   "execution_count": 105,
   "id": "fc892b4b-656b-4b67-b053-1f840926d63d",
   "metadata": {},
   "outputs": [
    {
     "data": {
      "text/plain": [
       "datetime.timezone(datetime.timedelta(seconds=19800), 'IST')"
      ]
     },
     "execution_count": 105,
     "metadata": {},
     "output_type": "execute_result"
    }
   ],
   "source": [
    "LOCAL_TIMEZONE"
   ]
  },
  {
   "cell_type": "code",
   "execution_count": 122,
   "id": "903182e0-b56d-40eb-8530-522725a8bc50",
   "metadata": {},
   "outputs": [],
   "source": [
    "obj = datetime.datetime.fromtimestamp( 1630241689 ).replace(tzinfo=LOCAL_TIMEZONE)"
   ]
  },
  {
   "cell_type": "code",
   "execution_count": 123,
   "id": "7762be59-108a-474b-8c16-b0da678e34b1",
   "metadata": {},
   "outputs": [
    {
     "data": {
      "text/plain": [
       "29"
      ]
     },
     "execution_count": 123,
     "metadata": {},
     "output_type": "execute_result"
    }
   ],
   "source": [
    "obj.day"
   ]
  },
  {
   "cell_type": "code",
   "execution_count": 115,
   "id": "d94535a3-001d-4356-af1f-66cf3c39b32b",
   "metadata": {},
   "outputs": [
    {
     "data": {
      "text/plain": [
       "datetime.date(2021, 8, 29)"
      ]
     },
     "execution_count": 115,
     "metadata": {},
     "output_type": "execute_result"
    }
   ],
   "source": [
    "obj.date()"
   ]
  },
  {
   "cell_type": "code",
   "execution_count": 124,
   "id": "612dec1e-a438-47f9-bb74-7b47640ba83e",
   "metadata": {},
   "outputs": [
    {
     "data": {
      "text/plain": [
       "'06:24 PM'"
      ]
     },
     "execution_count": 124,
     "metadata": {},
     "output_type": "execute_result"
    }
   ],
   "source": [
    "obj.time().strftime(\"%I:%M %p\")"
   ]
  },
  {
   "cell_type": "code",
   "execution_count": 128,
   "id": "4e083e06-af50-4de5-a976-77ba0070468b",
   "metadata": {},
   "outputs": [],
   "source": [
    "date_obj = datetime.datetime.now()+datetime.timedelta(7)"
   ]
  },
  {
   "cell_type": "code",
   "execution_count": 130,
   "id": "37dc2e99-b33e-4c66-9a59-a5e8e3dbf7e4",
   "metadata": {},
   "outputs": [
    {
     "data": {
      "text/plain": [
       "'06:50 PM'"
      ]
     },
     "execution_count": 130,
     "metadata": {},
     "output_type": "execute_result"
    }
   ],
   "source": [
    "date_obj.strftime(\"%I:%M %p\")"
   ]
  },
  {
   "cell_type": "code",
   "execution_count": 131,
   "id": "7b667979-aaa4-492e-9d90-fd76f434ab5f",
   "metadata": {},
   "outputs": [
    {
     "data": {
      "text/plain": [
       "'09/05/21 50 2021'"
      ]
     },
     "execution_count": 131,
     "metadata": {},
     "output_type": "execute_result"
    }
   ],
   "source": [
    "date_obj.strftime(\"%D %M %Y\")"
   ]
  },
  {
   "cell_type": "code",
   "execution_count": 152,
   "id": "9b848cb5-0446-4862-8cde-a57b7cfbd2d9",
   "metadata": {},
   "outputs": [
    {
     "data": {
      "text/plain": [
       "'29 08 2021'"
      ]
     },
     "execution_count": 152,
     "metadata": {},
     "output_type": "execute_result"
    }
   ],
   "source": [
    "datetime.datetime.now().strftime(\"%d %m %Y\")"
   ]
  },
  {
   "cell_type": "code",
   "execution_count": 22,
   "id": "2967d971-4d15-4e0f-839a-e8afa7ca133b",
   "metadata": {},
   "outputs": [],
   "source": [
    "from datetime import datetime,timedelta\n",
    "def get_date(\n",
    "    formated: bool = True, \n",
    "    format_as_name: bool = False, \n",
    "    timedelta_int: int = None\n",
    "):      \n",
    "    now=datetime.now().date()\n",
    "    if timedelta_int:\n",
    "        now = datetime.now()+timedelta(timedelta_int)\n",
    "        \n",
    "    if formated:\n",
    "        return now.strftime(\"%d %m %Y\")\n",
    "    elif format_as_name:\n",
    "        return now.strftime(\"%A %dth %B %Y\")\n",
    "    else:\n",
    "        return now"
   ]
  },
  {
   "cell_type": "code",
   "execution_count": 30,
   "id": "338b4cda-971a-4a2a-813c-6e6fdcff1a06",
   "metadata": {},
   "outputs": [
    {
     "data": {
      "text/plain": [
       "'Monday 30th August 2021'"
      ]
     },
     "execution_count": 30,
     "metadata": {},
     "output_type": "execute_result"
    }
   ],
   "source": [
    "get_date(formated=False, format_as_name=True)"
   ]
  },
  {
   "cell_type": "code",
   "execution_count": 18,
   "id": "bfadd3ce-74eb-4961-ba71-45ecc76236b4",
   "metadata": {},
   "outputs": [],
   "source": [
    "import requests\n",
    "url ='https://www.google.com/search?q='\n",
    "html = requests.get(url+\"weather in my location today\").content\n",
    "soup = BeautifulSoup(html, 'html.parser')\n",
    "temp = soup.find('div', attrs={'class': 'BNeawe iBp4i AP7Wnd'}).text\n",
    "str = soup.find('div', attrs={'class': 'BNeawe tAd8D AP7Wnd'}).text"
   ]
  },
  {
   "cell_type": "code",
   "execution_count": 19,
   "id": "b76b082f-ce57-44d0-97bf-946cc5e7d642",
   "metadata": {},
   "outputs": [
    {
     "data": {
      "text/plain": [
       "'29°C'"
      ]
     },
     "execution_count": 19,
     "metadata": {},
     "output_type": "execute_result"
    }
   ],
   "source": [
    "temp"
   ]
  },
  {
   "cell_type": "code",
   "execution_count": 20,
   "id": "68a0628f-470c-45db-b012-6bb6c3ba4ea3",
   "metadata": {},
   "outputs": [
    {
     "data": {
      "text/plain": [
       "'Monday\\nCloudy\\nHigh: 33°C Low: 26°C'"
      ]
     },
     "execution_count": 20,
     "metadata": {},
     "output_type": "execute_result"
    }
   ],
   "source": [
    "str"
   ]
  },
  {
   "cell_type": "code",
   "execution_count": 12,
   "id": "d47ff76b-6a00-4278-a725-fd141968ae47",
   "metadata": {},
   "outputs": [
    {
     "data": {
      "text/plain": [
       "b'<!DOCTYPE html>\\n<html>\\n<head>\\n    <meta charset=\"utf-8\">\\n    <style type=\"text/css\">\\n        html, body, #partner, iframe {\\n            height: 100%;\\n            width: 100%;\\n            margin: 0;\\n            padding: 0;\\n            border: 0;\\n            outline: 0;\\n            font-size: 100%;\\n            vertical-align: baseline;\\n            background: transparent;\\n        }\\n\\n        body {\\n            overflow: hidden;\\n        }\\n    </style>\\n    <meta content=\"NOW\" name=\"expires\">\\n    <meta content=\"index, follow, all\" name=\"GOOGLEBOT\">\\n    <meta content=\"index, follow, all\" name=\"robots\">\\n    <!-- Following Meta-Tag fixes scaling-issues on mobile devices -->\\n    <meta content=\"width=device-width; initial-scale=1.0; maximum-scale=1.0;\\n            user-scalable=0;\" name=\"viewport\">\\n</head>\\n<body>\\n\\n<div id=\"partner\"></div>\\n<script type=\"text/javascript\">\\n    function getParam() {\\n        var query = window.location.search.substring(1);\\n        var vars = query.split(\"&\");\\n        for (var i = 0; i < vars.length; i++) {\\n            var pair = vars[i].split(\"=\");\\n            if (pair[0] == \\'domain\\') {\\n                return pair[1];\\n            }\\n        }\\n        return  window.location.host;\\n    }\\n    ;\\n\\n    document.write(\\n            \\'<script type=\"text/javascript\" language=\"JavaScript\"\\'\\n                    + \\'src=\"//sedoparking.com/frmpark/\\'\\n                    + getParam() + \\'/\\'\\n                    + \\'sedopark\\'\\n                    + \\'/park.js\">\\'\\n                    + \\'<\\\\/script>\\'\\n    );\\n</script>\\n</body>\\n</html>'"
      ]
     },
     "execution_count": 12,
     "metadata": {},
     "output_type": "execute_result"
    }
   ],
   "source": [
    "freegeoip = \"http://freegeoip.net/json\"\n",
    "geo_r = requests.get(freegeoip)\n",
    "geo_r.content\n",
    "# geo_json = geo_r.json()\n",
    "\n",
    "# user_postition = [geo_json[\"latitude\"], geo_json[\"longitude\"]]\n",
    "\n",
    "# print(user_postition)\n"
   ]
  },
  {
   "cell_type": "code",
   "execution_count": 6,
   "id": "048f4df0-c82e-4fb2-9ee9-e3a84b736b1f",
   "metadata": {},
   "outputs": [],
   "source": [
    "# data.content"
   ]
  },
  {
   "cell_type": "code",
   "execution_count": 19,
   "id": "718eb3aa-67da-4cff-a472-17e4cb695177",
   "metadata": {},
   "outputs": [
    {
     "name": "stdout",
     "output_type": "stream",
     "text": [
      "posix.uname_result(sysname='Linux', nodename='KR32', release='5.4.72-microsoft-standard-WSL2', version='#1 SMP Wed Oct 28 23:40:43 UTC 2020', machine='x86_64')\n"
     ]
    }
   ],
   "source": [
    "import os\n",
    " \n",
    "print(os.uname())"
   ]
  },
  {
   "cell_type": "code",
   "execution_count": 23,
   "id": "ae958ec1-e05a-4f64-8b9e-1ed54740ff78",
   "metadata": {},
   "outputs": [
    {
     "name": "stdout",
     "output_type": "stream",
     "text": [
      "\u001b[31mERROR: Invalid requirement: 'subprocess=0.0.8'\n",
      "Hint: = is not a valid operator. Did you mean == ?\u001b[0m\n"
     ]
    }
   ],
   "source": [
    "!pip install subprocess=0.0.8"
   ]
  },
  {
   "cell_type": "code",
   "execution_count": 33,
   "id": "2d48fbf3-7c66-405d-999d-b57352c75607",
   "metadata": {},
   "outputs": [
    {
     "ename": "CalledProcessError",
     "evalue": "Command 'systeminfo' returned non-zero exit status 127.",
     "output_type": "error",
     "traceback": [
      "\u001b[0;31m---------------------------------------------------------------------------\u001b[0m",
      "\u001b[0;31mCalledProcessError\u001b[0m                        Traceback (most recent call last)",
      "\u001b[0;32m/tmp/ipykernel_814/1936334358.py\u001b[0m in \u001b[0;36m<module>\u001b[0;34m\u001b[0m\n\u001b[1;32m      3\u001b[0m \u001b[0;31m# traverse the info\u001b[0m\u001b[0;34m\u001b[0m\u001b[0;34m\u001b[0m\u001b[0;34m\u001b[0m\u001b[0m\n\u001b[1;32m      4\u001b[0m \u001b[0mstderr\u001b[0m\u001b[0;34m=\u001b[0m\u001b[0msubprocess\u001b[0m\u001b[0;34m.\u001b[0m\u001b[0mSTDOUT\u001b[0m\u001b[0;34m\u001b[0m\u001b[0;34m\u001b[0m\u001b[0m\n\u001b[0;32m----> 5\u001b[0;31m Id = subprocess.check_output('systeminfo',\n\u001b[0m\u001b[1;32m      6\u001b[0m             \u001b[0mshell\u001b[0m\u001b[0;34m=\u001b[0m\u001b[0;32mTrue\u001b[0m\u001b[0;34m,\u001b[0m\u001b[0;34m\u001b[0m\u001b[0;34m\u001b[0m\u001b[0m\n\u001b[1;32m      7\u001b[0m             \u001b[0mstderr\u001b[0m\u001b[0;34m=\u001b[0m\u001b[0mstderr\u001b[0m\u001b[0;34m,\u001b[0m\u001b[0;34m\u001b[0m\u001b[0;34m\u001b[0m\u001b[0m\n",
      "\u001b[0;32m~/.pyenv/versions/3.8.6/lib/python3.8/subprocess.py\u001b[0m in \u001b[0;36mcheck_output\u001b[0;34m(timeout, *popenargs, **kwargs)\u001b[0m\n\u001b[1;32m    409\u001b[0m         \u001b[0mkwargs\u001b[0m\u001b[0;34m[\u001b[0m\u001b[0;34m'input'\u001b[0m\u001b[0;34m]\u001b[0m \u001b[0;34m=\u001b[0m \u001b[0;34m''\u001b[0m \u001b[0;32mif\u001b[0m \u001b[0mkwargs\u001b[0m\u001b[0;34m.\u001b[0m\u001b[0mget\u001b[0m\u001b[0;34m(\u001b[0m\u001b[0;34m'universal_newlines'\u001b[0m\u001b[0;34m,\u001b[0m \u001b[0;32mFalse\u001b[0m\u001b[0;34m)\u001b[0m \u001b[0;32melse\u001b[0m \u001b[0;34mb''\u001b[0m\u001b[0;34m\u001b[0m\u001b[0;34m\u001b[0m\u001b[0m\n\u001b[1;32m    410\u001b[0m \u001b[0;34m\u001b[0m\u001b[0m\n\u001b[0;32m--> 411\u001b[0;31m     return run(*popenargs, stdout=PIPE, timeout=timeout, check=True,\n\u001b[0m\u001b[1;32m    412\u001b[0m                **kwargs).stdout\n\u001b[1;32m    413\u001b[0m \u001b[0;34m\u001b[0m\u001b[0m\n",
      "\u001b[0;32m~/.pyenv/versions/3.8.6/lib/python3.8/subprocess.py\u001b[0m in \u001b[0;36mrun\u001b[0;34m(input, capture_output, timeout, check, *popenargs, **kwargs)\u001b[0m\n\u001b[1;32m    510\u001b[0m         \u001b[0mretcode\u001b[0m \u001b[0;34m=\u001b[0m \u001b[0mprocess\u001b[0m\u001b[0;34m.\u001b[0m\u001b[0mpoll\u001b[0m\u001b[0;34m(\u001b[0m\u001b[0;34m)\u001b[0m\u001b[0;34m\u001b[0m\u001b[0;34m\u001b[0m\u001b[0m\n\u001b[1;32m    511\u001b[0m         \u001b[0;32mif\u001b[0m \u001b[0mcheck\u001b[0m \u001b[0;32mand\u001b[0m \u001b[0mretcode\u001b[0m\u001b[0;34m:\u001b[0m\u001b[0;34m\u001b[0m\u001b[0;34m\u001b[0m\u001b[0m\n\u001b[0;32m--> 512\u001b[0;31m             raise CalledProcessError(retcode, process.args,\n\u001b[0m\u001b[1;32m    513\u001b[0m                                      output=stdout, stderr=stderr)\n\u001b[1;32m    514\u001b[0m     \u001b[0;32mreturn\u001b[0m \u001b[0mCompletedProcess\u001b[0m\u001b[0;34m(\u001b[0m\u001b[0mprocess\u001b[0m\u001b[0;34m.\u001b[0m\u001b[0margs\u001b[0m\u001b[0;34m,\u001b[0m \u001b[0mretcode\u001b[0m\u001b[0;34m,\u001b[0m \u001b[0mstdout\u001b[0m\u001b[0;34m,\u001b[0m \u001b[0mstderr\u001b[0m\u001b[0;34m)\u001b[0m\u001b[0;34m\u001b[0m\u001b[0;34m\u001b[0m\u001b[0m\n",
      "\u001b[0;31mCalledProcessError\u001b[0m: Command 'systeminfo' returned non-zero exit status 127."
     ]
    }
   ],
   "source": [
    "import subprocess\n",
    " \n",
    "# traverse the info\n",
    "stderr=subprocess.STDOUT\n",
    "Id = subprocess.check_output('systeminfo',\n",
    "            shell=True,\n",
    "            stderr=stderr,\n",
    "            universal_newlines=True,\n",
    ").decode('utf-8').split('\\n')\n",
    "new = []\n",
    " \n",
    "# # arrange the string into clear info\n",
    "for item in Id:\n",
    "    new.append(str(item.split(\"\\r\")[:-1]))\n",
    "for i in new:\n",
    "    print(i[2:-2])"
   ]
  },
  {
   "cell_type": "code",
   "execution_count": 27,
   "id": "ad7bde87-ad4d-43e8-a241-4ad169f4eaeb",
   "metadata": {},
   "outputs": [
    {
     "data": {
      "text/plain": [
       "<module 'subprocess' from '/home/kalingaraj/.pyenv/versions/3.8.6/lib/python3.8/subprocess.py'>"
      ]
     },
     "execution_count": 27,
     "metadata": {},
     "output_type": "execute_result"
    }
   ],
   "source": [
    "subprocess"
   ]
  },
  {
   "cell_type": "code",
   "execution_count": 34,
   "id": "6dde872f-cccf-4daf-9910-fd61fc0d1c30",
   "metadata": {},
   "outputs": [],
   "source": [
    "def run_cmd(cmd: str, stderr=subprocess.STDOUT) -> None:\n",
    "    \"\"\"Run a command in terminal\n",
    "\n",
    "    Args:\n",
    "        cmd (str): command to run in terminal\n",
    "        stderr (subprocess, optional): Where the error has to go. Defaults to subprocess.STDOUT.\n",
    "\n",
    "    Raises:\n",
    "        e: Excetion of the CalledProcessError\n",
    "    \"\"\"\n",
    "    out = None\n",
    "    try:\n",
    "        out = subprocess.check_output(\n",
    "            [cmd],\n",
    "            shell=True,\n",
    "            stderr=stderr,\n",
    "            universal_newlines=True,\n",
    "        )\n",
    "    except subprocess.CalledProcessError as e:\n",
    "        print(f'ERROR {e.returncode}: {cmd}\\n\\t{e.output}',\n",
    "              flush=True, file=sys.stderr)\n",
    "        raise e\n",
    "    print(out)"
   ]
  },
  {
   "cell_type": "code",
   "execution_count": 35,
   "id": "b179aa44-ec1b-49ca-a27a-14a06f6de627",
   "metadata": {},
   "outputs": [
    {
     "name": "stdout",
     "output_type": "stream",
     "text": [
      "hello\n",
      "\n"
     ]
    }
   ],
   "source": [
    "run_cmd(\"echo 'hello'\")"
   ]
  },
  {
   "cell_type": "code",
   "execution_count": 36,
   "id": "7520aadc-c850-45ba-8252-4a6c58a66b18",
   "metadata": {},
   "outputs": [
    {
     "ename": "NameError",
     "evalue": "name 'sys' is not defined",
     "output_type": "error",
     "traceback": [
      "\u001b[0;31m---------------------------------------------------------------------------\u001b[0m",
      "\u001b[0;31mCalledProcessError\u001b[0m                        Traceback (most recent call last)",
      "\u001b[0;32m/tmp/ipykernel_814/3431717916.py\u001b[0m in \u001b[0;36mrun_cmd\u001b[0;34m(cmd, stderr)\u001b[0m\n\u001b[1;32m     12\u001b[0m     \u001b[0;32mtry\u001b[0m\u001b[0;34m:\u001b[0m\u001b[0;34m\u001b[0m\u001b[0;34m\u001b[0m\u001b[0m\n\u001b[0;32m---> 13\u001b[0;31m         out = subprocess.check_output(\n\u001b[0m\u001b[1;32m     14\u001b[0m             \u001b[0;34m[\u001b[0m\u001b[0mcmd\u001b[0m\u001b[0;34m]\u001b[0m\u001b[0;34m,\u001b[0m\u001b[0;34m\u001b[0m\u001b[0;34m\u001b[0m\u001b[0m\n",
      "\u001b[0;32m~/.pyenv/versions/3.8.6/lib/python3.8/subprocess.py\u001b[0m in \u001b[0;36mcheck_output\u001b[0;34m(timeout, *popenargs, **kwargs)\u001b[0m\n\u001b[1;32m    410\u001b[0m \u001b[0;34m\u001b[0m\u001b[0m\n\u001b[0;32m--> 411\u001b[0;31m     return run(*popenargs, stdout=PIPE, timeout=timeout, check=True,\n\u001b[0m\u001b[1;32m    412\u001b[0m                **kwargs).stdout\n",
      "\u001b[0;32m~/.pyenv/versions/3.8.6/lib/python3.8/subprocess.py\u001b[0m in \u001b[0;36mrun\u001b[0;34m(input, capture_output, timeout, check, *popenargs, **kwargs)\u001b[0m\n\u001b[1;32m    511\u001b[0m         \u001b[0;32mif\u001b[0m \u001b[0mcheck\u001b[0m \u001b[0;32mand\u001b[0m \u001b[0mretcode\u001b[0m\u001b[0;34m:\u001b[0m\u001b[0;34m\u001b[0m\u001b[0;34m\u001b[0m\u001b[0m\n\u001b[0;32m--> 512\u001b[0;31m             raise CalledProcessError(retcode, process.args,\n\u001b[0m\u001b[1;32m    513\u001b[0m                                      output=stdout, stderr=stderr)\n",
      "\u001b[0;31mCalledProcessError\u001b[0m: Command '['systeminfo']' returned non-zero exit status 127.",
      "\nDuring handling of the above exception, another exception occurred:\n",
      "\u001b[0;31mNameError\u001b[0m                                 Traceback (most recent call last)",
      "\u001b[0;32m/tmp/ipykernel_814/2820006996.py\u001b[0m in \u001b[0;36m<module>\u001b[0;34m\u001b[0m\n\u001b[0;32m----> 1\u001b[0;31m \u001b[0mrun_cmd\u001b[0m\u001b[0;34m(\u001b[0m\u001b[0;34m\"systeminfo\"\u001b[0m\u001b[0;34m)\u001b[0m\u001b[0;34m\u001b[0m\u001b[0;34m\u001b[0m\u001b[0m\n\u001b[0m",
      "\u001b[0;32m/tmp/ipykernel_814/3431717916.py\u001b[0m in \u001b[0;36mrun_cmd\u001b[0;34m(cmd, stderr)\u001b[0m\n\u001b[1;32m     19\u001b[0m     \u001b[0;32mexcept\u001b[0m \u001b[0msubprocess\u001b[0m\u001b[0;34m.\u001b[0m\u001b[0mCalledProcessError\u001b[0m \u001b[0;32mas\u001b[0m \u001b[0me\u001b[0m\u001b[0;34m:\u001b[0m\u001b[0;34m\u001b[0m\u001b[0;34m\u001b[0m\u001b[0m\n\u001b[1;32m     20\u001b[0m         print(f'ERROR {e.returncode}: {cmd}\\n\\t{e.output}',\n\u001b[0;32m---> 21\u001b[0;31m               flush=True, file=sys.stderr)\n\u001b[0m\u001b[1;32m     22\u001b[0m         \u001b[0;32mraise\u001b[0m \u001b[0me\u001b[0m\u001b[0;34m\u001b[0m\u001b[0;34m\u001b[0m\u001b[0m\n\u001b[1;32m     23\u001b[0m     \u001b[0mprint\u001b[0m\u001b[0;34m(\u001b[0m\u001b[0mout\u001b[0m\u001b[0;34m)\u001b[0m\u001b[0;34m\u001b[0m\u001b[0;34m\u001b[0m\u001b[0m\n",
      "\u001b[0;31mNameError\u001b[0m: name 'sys' is not defined"
     ]
    }
   ],
   "source": [
    "run_cmd(\"systeminfo\")"
   ]
  },
  {
   "cell_type": "code",
   "execution_count": null,
   "id": "10cb96db-2ced-4e4c-8ac0-50667b67fce4",
   "metadata": {},
   "outputs": [],
   "source": []
  }
 ],
 "metadata": {
  "kernelspec": {
   "display_name": "jupyter-lab",
   "language": "python",
   "name": "jupyter-lab"
  },
  "language_info": {
   "codemirror_mode": {
    "name": "ipython",
    "version": 3
   },
   "file_extension": ".py",
   "mimetype": "text/x-python",
   "name": "python",
   "nbconvert_exporter": "python",
   "pygments_lexer": "ipython3",
   "version": "3.8.6"
  }
 },
 "nbformat": 4,
 "nbformat_minor": 5
}
