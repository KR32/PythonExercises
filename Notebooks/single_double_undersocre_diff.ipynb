{
 "cells": [
  {
   "cell_type": "code",
   "execution_count": null,
   "metadata": {},
   "outputs": [],
   "source": [
    "\"\"\" \n",
    "Source from:\n",
    "https://towardsdatascience.com/whats-the-meaning-of-single-and-double-underscores-in-python-3d27d57d6bd1\n",
    "\"\"\""
   ]
  },
  {
   "cell_type": "code",
   "execution_count": null,
   "metadata": {},
   "outputs": [],
   "source": [
    "# private variable\n",
    "_imprivate = 1\n",
    "\n",
    "# user reserved keywords by trailing _\n",
    "class_ = \"myclass\"\n",
    "def_ = \"mydef\"\n",
    "\n",
    "# underscore (dummy)\n",
    "count = 0\n",
    "for _ in range(5):\n",
    "    count +=1\n",
    "\n",
    "# __dundermethods__ --> methods\n",
    "\n",
    "#  __init__ -> constructor\n",
    "# __next__  -> used to get next value from iterator object\n",
    "\n",
    "\n",
    "# a__\n",
    "class Car:\n",
    "    def __init__(self):\n",
    "        self.color = \"red\"\n",
    "        self._speed = 70\n",
    "        self.__brand = \"bmw\""
   ]
  },
  {
   "cell_type": "code",
   "execution_count": null,
   "metadata": {},
   "outputs": [],
   "source": [
    "        \n",
    "car = Car()\n",
    "dir(car)\n",
    "\n",
    "\"\"\"\n",
    "\n",
    "['_Car__brand', '__class__', '__delattr__', '__dict__', '__dir__', '__doc__', \n",
    " '__eq__', '__format__', '__ge__', '__getattribute__', '__gt__', '__hash__',\n",
    " '__init__', '__init_subclass__', '__le__', '__lt__', '__module__', '__ne__', \n",
    " '__new__', '__reduce__', '__reduce_ex__', '__repr__', '__setattr__', \n",
    " '__sizeof__', '__str__', '__subclasshook__', '__weakref__', '_speed', 'color']\n",
    "\n",
    "\n",
    "were _Car__brand == __brand\n",
    "\n",
    "\"\"\""
   ]
  },
  {
   "cell_type": "code",
   "execution_count": null,
   "metadata": {},
   "outputs": [],
   "source": [
    "class ExtendedCar(Car):\n",
    "    def __init__(self):\n",
    "        super(ExtendedCar, self).__init__()\n",
    "        self.color = \"green\"\n",
    "        self._speed = 80\n",
    "        self.__brand = \"audi\"\n",
    "        \n",
    "extended_car = ExtendedCar()"
   ]
  },
  {
   "cell_type": "code",
   "execution_count": null,
   "metadata": {},
   "outputs": [],
   "source": [
    "dir(extended_car)\n",
    "\n",
    "\n",
    "\"\"\"\n",
    "\n",
    "['_Car__brand', '_ExtendedCar__brand', '__class__', '__delattr__', '__dict__', \n",
    " '__dir__', '__doc__', '__eq__', '__format__', '__ge__', '__getattribute__',\n",
    " '__gt__', '__hash__', '__init__', '__init_subclass__', '__le__', '__lt__',\n",
    " '__module__', '__ne__', '__new__', '__reduce__', '__reduce_ex__',\n",
    " '__repr__', '__setattr__', '__sizeof__', '__str__', '__subclasshook__',\n",
    " '__weakref__', '_speed', 'color']\n",
    "\n",
    "were,\n",
    "_Car__brand == Car.__brand\n",
    "_ExtendedCar__brand == ExtendedCar.__brand\n",
    "\n",
    "\"\"\""
   ]
  }
 ],
 "metadata": {
  "kernelspec": {
   "display_name": "Python 3.9.13 64-bit ('3.9.13')",
   "language": "python",
   "name": "python3"
  },
  "language_info": {
   "name": "python",
   "version": "3.9.13"
  },
  "orig_nbformat": 4,
  "vscode": {
   "interpreter": {
    "hash": "6db463df284bb4985e06c59ecae40786d5d28b3d2d10bb6b2094eafcabd579c4"
   }
  }
 },
 "nbformat": 4,
 "nbformat_minor": 2
}
