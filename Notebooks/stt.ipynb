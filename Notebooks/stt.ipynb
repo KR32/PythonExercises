{
 "cells": [
  {
   "cell_type": "code",
   "execution_count": 27,
   "id": "78a79e85-0fde-4f69-8cf6-966d17e52891",
   "metadata": {},
   "outputs": [],
   "source": [
    "import os\n",
    "import pyttsx3\n",
    "import speech_recognition as sr\n",
    "from gtts import gTTS"
   ]
  },
  {
   "cell_type": "code",
   "execution_count": 20,
   "id": "91c65b56-8f80-467f-906a-11f2e9493139",
   "metadata": {},
   "outputs": [],
   "source": [
    "# engine = pyttsx3.init('sapi5')\n",
    "# voices = engine.getProperty('voices')\n",
    "# engine.setProperty('voice', voices[0].id)\n",
    "# #Speak function will speak/Pronounce the string which is passed to it\n",
    "# def speak(text):\n",
    "#     engine.say(text)\n",
    "#     engine.runAndWait()"
   ]
  },
  {
   "cell_type": "code",
   "execution_count": 15,
   "id": "ebd68dfe-5d14-4543-bb8d-d5be07c7f203",
   "metadata": {},
   "outputs": [],
   "source": [
    "# !python stt.py"
   ]
  },
  {
   "cell_type": "code",
   "execution_count": 24,
   "id": "4e85f9f2-ed88-412e-a606-ceabd5d0aabf",
   "metadata": {},
   "outputs": [],
   "source": [
    "# !pip install comtypes\n"
   ]
  },
  {
   "cell_type": "code",
   "execution_count": 28,
   "id": "7914aaae-0732-4710-a284-40658ba2c13b",
   "metadata": {},
   "outputs": [
    {
     "name": "stderr",
     "output_type": "stream",
     "text": [
      "sh: 1: mpg321: not found\n"
     ]
    },
    {
     "data": {
      "text/plain": [
       "32512"
      ]
     },
     "execution_count": 28,
     "metadata": {},
     "output_type": "execute_result"
    }
   ],
   "source": [
    "mytext='hello world'*2\n",
    "language='en'\n",
    "myobj = gTTS(text=mytext, lang=language, slow=False)\n",
    "\n",
    "myobj.save(\"welcome.mp3\")\n",
    "os.system(\"mpg321 welcome.mp3\")"
   ]
  },
  {
   "cell_type": "code",
   "execution_count": null,
   "id": "f98ea54e-0d26-4da2-8024-5ff234222f4a",
   "metadata": {},
   "outputs": [],
   "source": []
  }
 ],
 "metadata": {
  "kernelspec": {
   "display_name": "jupyter-lab",
   "language": "python",
   "name": "jupyter-lab"
  },
  "language_info": {
   "codemirror_mode": {
    "name": "ipython",
    "version": 3
   },
   "file_extension": ".py",
   "mimetype": "text/x-python",
   "name": "python",
   "nbconvert_exporter": "python",
   "pygments_lexer": "ipython3",
   "version": "3.8.6"
  }
 },
 "nbformat": 4,
 "nbformat_minor": 5
}
